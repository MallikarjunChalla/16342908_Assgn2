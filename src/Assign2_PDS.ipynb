{
  "nbformat": 4,
  "nbformat_minor": 0,
  "metadata": {
    "colab": {
      "provenance": []
    },
    "kernelspec": {
      "name": "python3",
      "display_name": "Python 3"
    },
    "language_info": {
      "name": "python"
    }
  },
  "cells": [
    {
      "cell_type": "code",
      "execution_count": 10,
      "metadata": {
        "id": "DmGmo6qgPOdM"
      },
      "outputs": [],
      "source": [
        "import pandas as pd\n",
        "import datetime\n"
      ]
    },
    {
      "cell_type": "code",
      "source": [
        "df = pd.read_csv(\"train.csv\")"
      ],
      "metadata": {
        "id": "8h0Udzz8PRNh"
      },
      "execution_count": 11,
      "outputs": []
    },
    {
      "cell_type": "code",
      "source": [
        "print(\"Sample of the given dataset:\")\n",
        "print(df.head())"
      ],
      "metadata": {
        "colab": {
          "base_uri": "https://localhost:8080/"
        },
        "id": "IWFQb0cSPff4",
        "outputId": "db6a5048-95a5-48e7-cc18-bea9ddaa43dd"
      },
      "execution_count": 12,
      "outputs": [
        {
          "output_type": "stream",
          "name": "stdout",
          "text": [
            "Sample of the given dataset:\n",
            "   Unnamed: 0                              Name    Location  Year  \\\n",
            "0           1  Hyundai Creta 1.6 CRDi SX Option        Pune  2015   \n",
            "1           2                      Honda Jazz V     Chennai  2011   \n",
            "2           3                 Maruti Ertiga VDI     Chennai  2012   \n",
            "3           4   Audi A4 New 2.0 TDI Multitronic  Coimbatore  2013   \n",
            "4           6            Nissan Micra Diesel XV      Jaipur  2013   \n",
            "\n",
            "   Kilometers_Driven Fuel_Type Transmission Owner_Type     Mileage   Engine  \\\n",
            "0              41000    Diesel       Manual      First  19.67 kmpl  1582 CC   \n",
            "1              46000    Petrol       Manual      First    13 km/kg  1199 CC   \n",
            "2              87000    Diesel       Manual      First  20.77 kmpl  1248 CC   \n",
            "3              40670    Diesel    Automatic     Second   15.2 kmpl  1968 CC   \n",
            "4              86999    Diesel       Manual      First  23.08 kmpl  1461 CC   \n",
            "\n",
            "       Power  Seats  New_Price  Price  \n",
            "0  126.2 bhp    5.0        NaN  12.50  \n",
            "1   88.7 bhp    5.0  8.61 Lakh   4.50  \n",
            "2  88.76 bhp    7.0        NaN   6.00  \n",
            "3  140.8 bhp    5.0        NaN  17.74  \n",
            "4   63.1 bhp    5.0        NaN   3.50  \n"
          ]
        }
      ]
    },
    {
      "cell_type": "code",
      "source": [
        "missing_values = df.isnull().sum()\n",
        "print(\"\\nMissing values in each column:\")\n",
        "print(missing_values)"
      ],
      "metadata": {
        "colab": {
          "base_uri": "https://localhost:8080/"
        },
        "id": "SyUwdcrjPpvx",
        "outputId": "f54ba5b3-2c67-4759-929a-67374be37bb9"
      },
      "execution_count": 13,
      "outputs": [
        {
          "output_type": "stream",
          "name": "stdout",
          "text": [
            "\n",
            "Missing values in each column:\n",
            "Unnamed: 0              0\n",
            "Name                    0\n",
            "Location                0\n",
            "Year                    0\n",
            "Kilometers_Driven       0\n",
            "Fuel_Type               0\n",
            "Transmission            0\n",
            "Owner_Type              0\n",
            "Mileage                 2\n",
            "Engine                 36\n",
            "Power                  36\n",
            "Seats                  38\n",
            "New_Price            5032\n",
            "Price                   0\n",
            "dtype: int64\n"
          ]
        }
      ]
    },
    {
      "cell_type": "code",
      "source": [
        "df['Mileage'] = df['Mileage'].astype(str).str.extract('(\\d+\\.\\d+)').astype(float)\n",
        "median_mileage = df['Mileage'].median()\n",
        "df['Mileage'].fillna(median_mileage, inplace=True)\n",
        "\n",
        "\n",
        "# Converting the 'Engine' column to string type and extract numerical value\n",
        "df['Engine'] = df['Engine'].astype(str).str.extract('(\\d+)')\n",
        "df['Engine'] = pd.to_numeric(df['Engine'], errors='coerce')\n",
        "median_engine = df['Engine'].median()\n",
        "df['Engine'].fillna(median_engine, inplace=True)\n",
        "\n",
        "\n",
        "# Converting the 'Power' column to string type and extract numerical value\n",
        "df['Power'] = df['Power'].astype(str).str.extract('(\\d+\\.?\\d*)').astype(float)\n",
        "median_power = df['Power'].median()\n",
        "df['Power'].fillna(median_power, inplace=True)\n",
        "\n",
        "\n",
        "# Extracting the numerical value from 'Price' column\n",
        "df['Price'] = df['Price'].astype(str).str.replace('Lakh', '').astype(float)\n",
        "\n",
        "# Converting 'New_Price' values to lakhs\n",
        "def convert_to_lakhs(value):\n",
        "    if pd.isna(value):\n",
        "        return value\n",
        "    elif 'Cr' in value:\n",
        "        return float(value.replace('Cr', '')) * 100  # Convert crores to lakhs\n",
        "    else:\n",
        "        return float(value.replace('Lakh', ''))\n",
        "\n",
        "df['New_Price'] = df['New_Price'].apply(convert_to_lakhs)\n",
        "median_new_price = df['New_Price'].median()\n",
        "df['New_Price'].fillna(median_new_price, inplace=True)\n",
        "\n",
        "\n",
        "\n",
        "# Imputed missing values in 'Seats' column with median\n",
        "median_seats = df['Seats'].median()\n",
        "df['Seats'].fillna(median_seats, inplace=True)"
      ],
      "metadata": {
        "id": "ILsE8qvMQKX3"
      },
      "execution_count": 14,
      "outputs": []
    },
    {
      "cell_type": "code",
      "source": [
        "# Verifying that missing values have been handled\n",
        "print(\"\\nMissing values after handling:\")\n",
        "print(df.isnull().sum())\n",
        "print(df.head())"
      ],
      "metadata": {
        "colab": {
          "base_uri": "https://localhost:8080/"
        },
        "id": "3BZcTSPESDCU",
        "outputId": "c460b7df-398a-4533-d31f-7f32746249c7"
      },
      "execution_count": 15,
      "outputs": [
        {
          "output_type": "stream",
          "name": "stdout",
          "text": [
            "\n",
            "Missing values after handling:\n",
            "Unnamed: 0           0\n",
            "Name                 0\n",
            "Location             0\n",
            "Year                 0\n",
            "Kilometers_Driven    0\n",
            "Fuel_Type            0\n",
            "Transmission         0\n",
            "Owner_Type           0\n",
            "Mileage              0\n",
            "Engine               0\n",
            "Power                0\n",
            "Seats                0\n",
            "New_Price            0\n",
            "Price                0\n",
            "dtype: int64\n",
            "   Unnamed: 0                              Name    Location  Year  \\\n",
            "0           1  Hyundai Creta 1.6 CRDi SX Option        Pune  2015   \n",
            "1           2                      Honda Jazz V     Chennai  2011   \n",
            "2           3                 Maruti Ertiga VDI     Chennai  2012   \n",
            "3           4   Audi A4 New 2.0 TDI Multitronic  Coimbatore  2013   \n",
            "4           6            Nissan Micra Diesel XV      Jaipur  2013   \n",
            "\n",
            "   Kilometers_Driven Fuel_Type Transmission Owner_Type  Mileage  Engine  \\\n",
            "0              41000    Diesel       Manual      First    19.67  1582.0   \n",
            "1              46000    Petrol       Manual      First    18.19  1199.0   \n",
            "2              87000    Diesel       Manual      First    20.77  1248.0   \n",
            "3              40670    Diesel    Automatic     Second    15.20  1968.0   \n",
            "4              86999    Diesel       Manual      First    23.08  1461.0   \n",
            "\n",
            "    Power  Seats  New_Price  Price  \n",
            "0  126.20    5.0      11.75  12.50  \n",
            "1   88.70    5.0       8.61   4.50  \n",
            "2   88.76    7.0      11.75   6.00  \n",
            "3  140.80    5.0      11.75  17.74  \n",
            "4   63.10    5.0      11.75   3.50  \n"
          ]
        }
      ]
    },
    {
      "cell_type": "code",
      "source": [
        "# One-hot encoding 'Fuel_Type' and 'Transmission' columns\n",
        "df = pd.get_dummies(df, columns=['Fuel_Type', 'Transmission'])\n",
        "\n",
        "# Displaying the first few rows of the dataframe\n",
        "print(df.head())\n"
      ],
      "metadata": {
        "colab": {
          "base_uri": "https://localhost:8080/"
        },
        "id": "wshuQNQTiHn5",
        "outputId": "2b2d8d42-1661-4983-cdde-ce70a81b69bd"
      },
      "execution_count": 16,
      "outputs": [
        {
          "output_type": "stream",
          "name": "stdout",
          "text": [
            "   Unnamed: 0                              Name    Location  Year  \\\n",
            "0           1  Hyundai Creta 1.6 CRDi SX Option        Pune  2015   \n",
            "1           2                      Honda Jazz V     Chennai  2011   \n",
            "2           3                 Maruti Ertiga VDI     Chennai  2012   \n",
            "3           4   Audi A4 New 2.0 TDI Multitronic  Coimbatore  2013   \n",
            "4           6            Nissan Micra Diesel XV      Jaipur  2013   \n",
            "\n",
            "   Kilometers_Driven Owner_Type  Mileage  Engine   Power  Seats  New_Price  \\\n",
            "0              41000      First    19.67  1582.0  126.20    5.0      11.75   \n",
            "1              46000      First    18.19  1199.0   88.70    5.0       8.61   \n",
            "2              87000      First    20.77  1248.0   88.76    7.0      11.75   \n",
            "3              40670     Second    15.20  1968.0  140.80    5.0      11.75   \n",
            "4              86999      First    23.08  1461.0   63.10    5.0      11.75   \n",
            "\n",
            "   Price  Fuel_Type_Diesel  Fuel_Type_Electric  Fuel_Type_Petrol  \\\n",
            "0  12.50                 1                   0                 0   \n",
            "1   4.50                 0                   0                 1   \n",
            "2   6.00                 1                   0                 0   \n",
            "3  17.74                 1                   0                 0   \n",
            "4   3.50                 1                   0                 0   \n",
            "\n",
            "   Transmission_Automatic  Transmission_Manual  \n",
            "0                       0                    1  \n",
            "1                       0                    1  \n",
            "2                       0                    1  \n",
            "3                       1                    0  \n",
            "4                       0                    1  \n"
          ]
        }
      ]
    },
    {
      "cell_type": "code",
      "source": [
        "# Convert 'Mileage' column to string type and extract numerical value\n",
        "df['Mileage'] = df['Mileage'].astype(str).str.extract('(\\d+\\.\\d+)').astype(float)\n",
        "\n",
        "# Define a function to categorize cars based on mileage\n",
        "def categorize_mileage(mileage):\n",
        "    if mileage < 10:\n",
        "        return 'Low'\n",
        "    elif mileage < 20:\n",
        "        return 'Medium'\n",
        "    else:\n",
        "        return 'High'\n",
        "\n",
        "# Apply the function to the 'Mileage' column to create the new 'Fuel_Efficiency_Category' feature\n",
        "df['Fuel_Efficiency_Category'] = df['Mileage'].apply(categorize_mileage)\n",
        "\n",
        "\n",
        "\n",
        "# Calculate the age of the car\n",
        "current_year = datetime.datetime.now().year\n",
        "df['Car_Age'] = current_year - df['Year']\n",
        "\n",
        "# Calculate the kilometers driven per year\n",
        "df['Kilometers_Driven_per_Year'] = df['Kilometers_Driven'] / df['Car_Age']\n",
        "\n",
        "\n",
        "print(df.head())\n",
        "\n"
      ],
      "metadata": {
        "colab": {
          "base_uri": "https://localhost:8080/"
        },
        "id": "ybcUjTa3kW6K",
        "outputId": "e3c582c7-7fff-4dae-f8ee-4f76b788abb5"
      },
      "execution_count": null,
      "outputs": [
        {
          "output_type": "stream",
          "name": "stdout",
          "text": [
            "   Unnamed: 0                              Name    Location  Year  \\\n",
            "0           1  Hyundai Creta 1.6 CRDi SX Option        Pune  2015   \n",
            "1           2                      Honda Jazz V     Chennai  2011   \n",
            "2           3                 Maruti Ertiga VDI     Chennai  2012   \n",
            "3           4   Audi A4 New 2.0 TDI Multitronic  Coimbatore  2013   \n",
            "4           6            Nissan Micra Diesel XV      Jaipur  2013   \n",
            "\n",
            "   Kilometers_Driven Owner_Type  Mileage  Engine   Power  Seats  New_Price  \\\n",
            "0              41000      First    19.67  1582.0  126.20    5.0      11.75   \n",
            "1              46000      First    18.19  1199.0   88.70    5.0       8.61   \n",
            "2              87000      First    20.77  1248.0   88.76    7.0      11.75   \n",
            "3              40670     Second    15.20  1968.0  140.80    5.0      11.75   \n",
            "4              86999      First    23.08  1461.0   63.10    5.0      11.75   \n",
            "\n",
            "   Price  Fuel_Type_Diesel  Fuel_Type_Electric  Fuel_Type_Petrol  \\\n",
            "0  12.50                 1                   0                 0   \n",
            "1   4.50                 0                   0                 1   \n",
            "2   6.00                 1                   0                 0   \n",
            "3  17.74                 1                   0                 0   \n",
            "4   3.50                 1                   0                 0   \n",
            "\n",
            "   Transmission_Automatic  Transmission_Manual Fuel_Efficiency_Category  \\\n",
            "0                       0                    1                   Medium   \n",
            "1                       0                    1                   Medium   \n",
            "2                       0                    1                     High   \n",
            "3                       1                    0                   Medium   \n",
            "4                       0                    1                     High   \n",
            "\n",
            "   Car_Age  Kilometers_Driven_per_Year  \n",
            "0        9                 4555.555556  \n",
            "1       13                 3538.461538  \n",
            "2       12                 7250.000000  \n",
            "3       11                 3697.272727  \n",
            "4       11                 7909.000000  \n"
          ]
        }
      ]
    },
    {
      "cell_type": "code",
      "source": [
        "# Select\n",
        "selected_df = df[['Name', 'Price']]\n",
        "print(\"Selected DataFrame:\")\n",
        "print(selected_df.head())\n",
        "print(\"\\n\")\n",
        "\n",
        "# Filter\n",
        "filtered_df = df[df['Location'] == \"Pune\"]\n",
        "print(\"Filtered DataFrame:\")\n",
        "print(filtered_df.head())\n",
        "print(\"\\n\")\n",
        "\n",
        "# Rename\n",
        "renamed_df = df.rename(columns={'Year': 'Manufacture_Year'})\n",
        "print(\"Renamed DataFrame:\")\n",
        "print(renamed_df.columns)\n",
        "print(\"\\n\")\n",
        "\n",
        "# Mutate\n",
        "df['Car_Age'] = datetime.datetime.now().year - df['Year']\n",
        "print(\"DataFrame after Mutation:\")\n",
        "print(df[['Year', 'Car_Age']].head())\n",
        "print(\"\\n\")\n",
        "\n",
        "# Arrange\n",
        "sorted_df = df.sort_values('Price', ascending=False)\n",
        "print(\"Sorted DataFrame:\")\n",
        "print(sorted_df[['Name', 'Price']].head())\n",
        "print(\"\\n\")\n",
        "\n",
        "# Summarize with group by\n",
        "summary_df = df.groupby('Fuel_Type_Diesel')['Price'].mean()\n",
        "print(\"Summary DataFrame:\")\n",
        "print(summary_df)\n"
      ],
      "metadata": {
        "colab": {
          "base_uri": "https://localhost:8080/"
        },
        "id": "tXpQPo2iknIG",
        "outputId": "786280f9-9c06-4599-e51e-cd457cffa4c5"
      },
      "execution_count": null,
      "outputs": [
        {
          "output_type": "stream",
          "name": "stdout",
          "text": [
            "Selected DataFrame:\n",
            "                               Name  Price\n",
            "0  Hyundai Creta 1.6 CRDi SX Option  12.50\n",
            "1                      Honda Jazz V   4.50\n",
            "2                 Maruti Ertiga VDI   6.00\n",
            "3   Audi A4 New 2.0 TDI Multitronic  17.74\n",
            "4            Nissan Micra Diesel XV   3.50\n",
            "\n",
            "\n",
            "Filtered DataFrame:\n",
            "    Unnamed: 0                                       Name Location  Year  \\\n",
            "0            1           Hyundai Creta 1.6 CRDi SX Option     Pune  2015   \n",
            "6            8        Volkswagen Vento Diesel Comfortline     Pune  2013   \n",
            "12          14             Land Rover Freelander 2 TD4 SE     Pune  2012   \n",
            "36          38           Mercedes-Benz M-Class ML 350 CDI     Pune  2013   \n",
            "61          63  Mercedes-Benz New C-Class 200 CDI Classic     Pune  2011   \n",
            "\n",
            "    Kilometers_Driven Owner_Type  Mileage  Engine  Power  Seats  New_Price  \\\n",
            "0               41000      First    19.67  1582.0  126.2    5.0      11.75   \n",
            "6               64430      First    20.54  1598.0  103.6    5.0      11.75   \n",
            "12              85000     Second     0.00  2179.0  115.0    5.0      11.75   \n",
            "36              85000      First    11.74  2987.0  254.8    5.0      11.75   \n",
            "61              65000     Second    15.80  2148.0  170.0    5.0      11.75   \n",
            "\n",
            "    Price  Fuel_Type_Diesel  Fuel_Type_Electric  Fuel_Type_Petrol  \\\n",
            "0    12.5                 1                   0                 0   \n",
            "6     5.2                 1                   0                 0   \n",
            "12   17.5                 1                   0                 0   \n",
            "36   28.0                 1                   0                 0   \n",
            "61   10.0                 1                   0                 0   \n",
            "\n",
            "    Transmission_Automatic  Transmission_Manual Fuel_Efficiency_Category  \\\n",
            "0                        0                    1                   Medium   \n",
            "6                        0                    1                     High   \n",
            "12                       1                    0                      Low   \n",
            "36                       1                    0                   Medium   \n",
            "61                       0                    1                   Medium   \n",
            "\n",
            "    Car_Age  Kilometers_Driven_per_Year  \n",
            "0         9                 4555.555556  \n",
            "6        11                 5857.272727  \n",
            "12       12                 7083.333333  \n",
            "36       11                 7727.272727  \n",
            "61       13                 5000.000000  \n",
            "\n",
            "\n",
            "Renamed DataFrame:\n",
            "Index(['Unnamed: 0', 'Name', 'Location', 'Manufacture_Year',\n",
            "       'Kilometers_Driven', 'Owner_Type', 'Mileage', 'Engine', 'Power',\n",
            "       'Seats', 'New_Price', 'Price', 'Fuel_Type_Diesel', 'Fuel_Type_Electric',\n",
            "       'Fuel_Type_Petrol', 'Transmission_Automatic', 'Transmission_Manual',\n",
            "       'Fuel_Efficiency_Category', 'Car_Age', 'Kilometers_Driven_per_Year'],\n",
            "      dtype='object')\n",
            "\n",
            "\n",
            "DataFrame after Mutation:\n",
            "   Year  Car_Age\n",
            "0  2015        9\n",
            "1  2011       13\n",
            "2  2012       12\n",
            "3  2013       11\n",
            "4  2013       11\n",
            "\n",
            "\n",
            "Sorted DataFrame:\n",
            "                                             Name   Price\n",
            "3952  Land Rover Range Rover 3.0 Diesel LWB Vogue  160.00\n",
            "5620                   Lamborghini Gallardo Coupe  120.00\n",
            "5752                       Jaguar F Type 5.0 V8 S  100.00\n",
            "1457              Land Rover Range Rover Sport SE   97.07\n",
            "1917                           BMW 7 Series 740Li   93.67\n",
            "\n",
            "\n",
            "Summary DataFrame:\n",
            "Fuel_Type_Diesel\n",
            "0     5.761988\n",
            "1    12.960686\n",
            "Name: Price, dtype: float64\n"
          ]
        }
      ]
    },
    {
      "cell_type": "code",
      "source": [
        "print(df.columns)"
      ],
      "metadata": {
        "colab": {
          "base_uri": "https://localhost:8080/"
        },
        "id": "d7tUjNqNnHnQ",
        "outputId": "8da38a03-20c9-45a1-e209-0aee8191d646"
      },
      "execution_count": null,
      "outputs": [
        {
          "output_type": "stream",
          "name": "stdout",
          "text": [
            "Index(['Unnamed: 0', 'Name', 'Location', 'Year', 'Kilometers_Driven',\n",
            "       'Owner_Type', 'Mileage', 'Engine', 'Power', 'Seats', 'New_Price',\n",
            "       'Price', 'Fuel_Type_Diesel', 'Fuel_Type_Electric', 'Fuel_Type_Petrol',\n",
            "       'Transmission_Automatic', 'Transmission_Manual',\n",
            "       'Fuel_Efficiency_Category', 'Car_Age', 'Kilometers_Driven_per_Year'],\n",
            "      dtype='object')\n"
          ]
        }
      ]
    }
  ]
}